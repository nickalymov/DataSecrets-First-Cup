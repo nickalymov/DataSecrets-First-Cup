{
 "cells": [
  {
   "cell_type": "code",
   "outputs": [],
   "source": [
    "import pandas as pd\n",
    "import numpy as np\n",
    "from sklearn.model_selection import StratifiedKFold\n",
    "from sklearn.metrics import roc_auc_score\n",
    "import optuna\n",
    "from lightgbm import LGBMClassifier\n",
    "from xgboost import XGBClassifier\n",
    "from catboost import CatBoostClassifier"
   ],
   "metadata": {
    "collapsed": false
   },
   "id": "d18d766f436b39c5",
   "execution_count": null
  },
  {
   "cell_type": "code",
   "outputs": [],
   "source": [
    "train = pd.read_csv('my_data/my_train.csv')\n",
    "test = pd.read_csv('my_data/my_test.csv')"
   ],
   "metadata": {
    "collapsed": false
   },
   "id": "e152f1a68cd6df72",
   "execution_count": null
  },
  {
   "cell_type": "code",
   "outputs": [],
   "source": [
    "# Выбор целевой переменной и признаков\n",
    "y = train['apply_promo']\n",
    "X = train.drop(columns=['apply_promo', 'ClientUUId'])  # ClientUUId также не нужен для обучения\n",
    "X_test = test.drop(columns=['ClientUUId'])\n",
    "\n",
    "# Замена специальных символов в названиях признаков (LGBM требует так)\n",
    "X.columns = X.columns.str.replace('[^a-zA-Z0-9_]', '_', regex=True)\n",
    "X_test.columns = X_test.columns.str.replace('[^a-zA-Z0-9_]', '_', regex=True)"
   ],
   "metadata": {
    "collapsed": false
   },
   "id": "90fd436f48f5973f",
   "execution_count": null
  },
  {
   "cell_type": "code",
   "outputs": [],
   "source": [
    "# Стратифицированные K-Folds\n",
    "n_splits = 2  # Количество фолдов\n",
    "skf = StratifiedKFold(n_splits=n_splits, shuffle=True, random_state=42)\n",
    "\n",
    "models = {'xgb': [], 'lgbm': [], 'catboost': []}\n",
    "val_scores = {'xgb': [], 'lgbm': [], 'catboost': []}"
   ],
   "metadata": {
    "collapsed": false
   },
   "id": "ca9f614263d7d90e",
   "execution_count": null
  },
  {
   "cell_type": "code",
   "outputs": [],
   "source": [
    "# Функции для Objective в Optuna\n",
    "def objective_xgb(trial):\n",
    "    params = {\n",
    "        'n_estimators': trial.suggest_int('n_estimators', 50, 200),\n",
    "        'max_depth': trial.suggest_int('max_depth', 3, 7),\n",
    "        'learning_rate': trial.suggest_loguniform('learning_rate', 0.01, 0.2),\n",
    "        'subsample': trial.suggest_uniform('subsample', 0.8, 1.0),\n",
    "        'colsample_bytree': trial.suggest_uniform('colsample_bytree', 0.8, 1.0)\n",
    "    }\n",
    "    model = XGBClassifier(**params, eval_metric='auc', use_label_encoder=False)\n",
    "    model.fit(X_train, y_train)\n",
    "    y_pred_valid = model.predict_proba(X_valid)[:, 1]\n",
    "    roc_auc = roc_auc_score(y_valid, y_pred_valid)\n",
    "    return roc_auc\n",
    "\n",
    "def objective_lgbm(trial):\n",
    "    params = {\n",
    "        'n_estimators': trial.suggest_int('n_estimators', 50, 200),\n",
    "        'max_depth': trial.suggest_int('max_depth', 3, 7),\n",
    "        'learning_rate': trial.suggest_float('learning_rate', 0.01, 0.2, log=True),\n",
    "        'subsample': trial.suggest_float('subsample', 0.8, 1.0),\n",
    "        'colsample_bytree': trial.suggest_float('colsample_bytree', 0.8, 1.0),\n",
    "        'min_data_in_leaf': trial.suggest_int('min_data_in_leaf', 20, 50),\n",
    "        'min_split_gain': trial.suggest_float('min_split_gain', 1e-8, 1e-2, log=True)\n",
    "    }\n",
    "    model = LGBMClassifier(**params)\n",
    "    model.fit(X_train, y_train)\n",
    "    y_pred_valid = model.predict_proba(X_valid)[:, 1]\n",
    "    roc_auc = roc_auc_score(y_valid, y_pred_valid)\n",
    "    return roc_auc\n",
    "\n",
    "def objective_catboost(trial):\n",
    "    params = {\n",
    "        'iterations': trial.suggest_int('iterations', 50, 200),\n",
    "        'depth': trial.suggest_int('depth', 3, 7),\n",
    "        'learning_rate': trial.suggest_loguniform('learning_rate', 0.01, 0.2),\n",
    "        'subsample': trial.suggest_uniform('subsample', 0.8, 1.0)\n",
    "    }\n",
    "    model = CatBoostClassifier(**params, eval_metric='AUC', verbose=0)\n",
    "    model.fit(X_train, y_train)\n",
    "    y_pred_valid = model.predict_proba(X_valid)[:, 1]\n",
    "    roc_auc = roc_auc_score(y_valid, y_pred_valid)\n",
    "    return roc_auc"
   ],
   "metadata": {
    "collapsed": false
   },
   "id": "b561a54306806182",
   "execution_count": null
  },
  {
   "cell_type": "code",
   "outputs": [],
   "source": [
    "# Цикл по фолдам и моделям\n",
    "for fold, (train_index, valid_index) in enumerate(skf.split(X, y)):\n",
    "    X_train, X_valid = X.iloc[train_index], X.iloc[valid_index]\n",
    "    y_train, y_valid = y.iloc[train_index], y.iloc[valid_index]\n",
    "\n",
    "    # Optuna study для XGB\n",
    "    study_xgb = optuna.create_study(direction='maximize')\n",
    "    study_xgb.optimize(objective_xgb, n_trials=5)\n",
    "    best_model_xgb = XGBClassifier(**study_xgb.best_params, eval_metric='auc', use_label_encoder=False)\n",
    "    best_model_xgb.fit(X_train, y_train)\n",
    "    models['xgb'].append(best_model_xgb)\n",
    "    y_pred_valid_xgb = best_model_xgb.predict_proba(X_valid)[:, 1]\n",
    "    roc_auc_xgb = roc_auc_score(y_valid, y_pred_valid_xgb)\n",
    "    val_scores['xgb'].append(roc_auc_xgb)\n",
    "\n",
    "    # Optuna study для LGBM\n",
    "    study_lgbm = optuna.create_study(direction='maximize')\n",
    "    study_lgbm.optimize(objective_lgbm, n_trials=5)\n",
    "    best_model_lgbm = LGBMClassifier(**study_lgbm.best_params)\n",
    "    best_model_lgbm.fit(X_train, y_train)\n",
    "    models['lgbm'].append(best_model_lgbm)\n",
    "    y_pred_valid_lgbm = best_model_lgbm.predict_proba(X_valid)[:, 1]\n",
    "    roc_auc_lgbm = roc_auc_score(y_valid, y_pred_valid_lgbm)\n",
    "    val_scores['lgbm'].append(roc_auc_lgbm)\n",
    "\n",
    "    # Optuna study для CatBoost\n",
    "    study_catboost = optuna.create_study(direction='maximize')\n",
    "    study_catboost.optimize(objective_catboost, n_trials=5)\n",
    "    best_model_catboost = CatBoostClassifier(**study_catboost.best_params, eval_metric='AUC', verbose=0)\n",
    "    best_model_catboost.fit(X_train, y_train)\n",
    "    models['catboost'].append(best_model_catboost)\n",
    "    y_pred_valid_catboost = best_model_catboost.predict_proba(X_valid)[:, 1]\n",
    "    roc_auc_catboost = roc_auc_score(y_valid, y_pred_valid_catboost)\n",
    "    val_scores['catboost'].append(roc_auc_catboost)\n",
    "\n",
    "    print(f\"Фолд {fold} - XGB ROC-AUC: {roc_auc_xgb}, LGBM ROC-AUC: {roc_auc_lgbm}, CatBoost ROC-AUC: {roc_auc_catboost}\")\n"
   ],
   "metadata": {
    "collapsed": false
   },
   "id": "b08331baec56467c",
   "execution_count": null
  },
  {
   "cell_type": "code",
   "outputs": [],
   "source": [
    "# Усреднение предсказаний на тестовых данных\n",
    "y_pred_test = np.zeros(len(X_test))\n",
    "for model_type, model_list in models.items():\n",
    "    for model in model_list:\n",
    "        y_pred_test += model.predict_proba(X_test)[:, 1]"
   ],
   "metadata": {
    "collapsed": false
   },
   "id": "43a90518578de598",
   "execution_count": null
  },
  {
   "cell_type": "code",
   "outputs": [],
   "source": [
    "y_pred_test /= (n_splits * 3) # 3 модели в каждом kfold"
   ],
   "metadata": {
    "collapsed": false
   },
   "id": "3364254d582130b8",
   "execution_count": null
  },
  {
   "cell_type": "code",
   "outputs": [],
   "source": [
    "# Создание submit.csv\n",
    "submit = pd.DataFrame({'apply_promo': y_pred_test})\n",
    "submit.to_csv('submit.csv', index=False)"
   ],
   "metadata": {
    "collapsed": false
   },
   "id": "d687ac31869a2f2b",
   "execution_count": null
  }
 ],
 "metadata": {
  "kernelspec": {
   "display_name": "Python 3",
   "language": "python",
   "name": "python3"
  },
  "language_info": {
   "codemirror_mode": {
    "name": "ipython",
    "version": 2
   },
   "file_extension": ".py",
   "mimetype": "text/x-python",
   "name": "python",
   "nbconvert_exporter": "python",
   "pygments_lexer": "ipython2",
   "version": "2.7.6"
  }
 },
 "nbformat": 4,
 "nbformat_minor": 5
}
